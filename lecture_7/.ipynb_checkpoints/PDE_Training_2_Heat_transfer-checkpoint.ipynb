{
 "cells": [
  {
   "cell_type": "markdown",
   "metadata": {},
   "source": [
    "# Solving Conductive Heat Transfer: Case of a window, with and without an insulating aire layer"
   ]
  },
  {
   "cell_type": "markdown",
   "metadata": {},
   "source": [
    "In this training we wish to solve the 1D  conductive heat transfer problem. We will consider heat transfer in a 1D slab of material It could be a glass window for example.. The medium has a width L and a thermal conductivity K and a specific heat Cp and density $\\rho$. \n",
    "\n"
   ]
  },
  {
   "cell_type": "markdown",
   "metadata": {},
   "source": [
    "The 1D heat diffusion equations reads :\n",
    "    $\\frac{\\partial T}{\\partial t}-\\frac{K}{\\rho Cp}\\frac{\\partial^2 T}{\\partial x^2}=\\frac{SK}{\\rho Cp}$"
   ]
  },
  {
   "cell_type": "markdown",
   "metadata": {},
   "source": [
    "where S is an energy source term (in $w/m^2$) that is non-zero if we inject energy in the system. For the moment we will assume that S=0"
   ]
  },
  {
   "cell_type": "markdown",
   "metadata": {},
   "source": [
    "For glass, $K\\simeq 1 w/m/K$, Cp=753 J/Kg/K, $\\rho=2500 Kg/m^3$"
   ]
  },
  {
   "cell_type": "markdown",
   "metadata": {},
   "source": [
    "## Diffusion timescale and the Courant condition (CFL)"
   ]
  },
  {
   "cell_type": "markdown",
   "metadata": {},
   "source": [
    "We assume initially that the glass width is L =1 cm, and that the temperature everywhere is 300K initially. The right (x=0) and left (x=L) temperatures of the glass is $T_L$ and $T_R$. We will change the glass left and right temperatures and see how the temperature profile (T(x) for x ranging from 0 to L) evolves."
   ]
  },
  {
   "cell_type": "markdown",
   "metadata": {},
   "source": [
    "By doing a simple dimensional analysis, find a characteristic timescale $T_d$ using L (the width of the window),  $T_d$ as a functio of L, K, $\\rho$ $Cp$. $T_d$ is the diffusion timescale. We can also recognize that $D=K/\\rho C_p$ is a diffusion coefficient, so the classical theory for diffusion processes applies here... "
   ]
  },
  {
   "cell_type": "markdown",
   "metadata": {},
   "source": [
    "$T_d=??$"
   ]
  },
  {
   "cell_type": "code",
   "execution_count": null,
   "metadata": {},
   "outputs": [],
   "source": [
    " "
   ]
  },
  {
   "cell_type": "markdown",
   "metadata": {},
   "source": [
    "## Discretization of the problem"
   ]
  },
  {
   "cell_type": "markdown",
   "metadata": {},
   "source": [
    "Now we want to solve the diffusion equation using a finite difference method.\n",
    "We need first to write the integration scheme.\n",
    "we call $x_i=i*dx$, $t_j=j*dt$ with i,j, integers, and dt and dx standing for the timestep and space step respectively. Let's call $T_i^j$ the numerical approximation to $T(x_i,t_j)$\n",
    "\n",
    "We start soing first order in time and second order in space. \n",
    "For the time derive use a forward 1st order derivative. Give the 1st order forward approximation."
   ]
  },
  {
   "cell_type": "markdown",
   "metadata": {},
   "source": [
    "$\\frac{\\partial T}{\\partial t}=???  +o(dt)$"
   ]
  },
  {
   "cell_type": "markdown",
   "metadata": {},
   "source": [
    "For the temperature space derivative we need the second order derivative. As diffusion ois a process acting in both directions simultaneously we can use a centered scheme. Provide a 1st order cetered approximation to the second order derivative : You can have a look here : https://en.wikipedia.org/wiki/Finite_difference"
   ]
  },
  {
   "cell_type": "markdown",
   "metadata": {},
   "source": [
    "$\\frac{\\partial^2 T}{\\partial x^2}=???  +o(dx^2)$"
   ]
  },
  {
   "cell_type": "markdown",
   "metadata": {},
   "source": [
    "From the above two expressions, build an integration scheme for the Heat diffusion equation :"
   ]
  },
  {
   "cell_type": "markdown",
   "metadata": {},
   "source": [
    "$T^{j+1}_i=T^{j}_i??$"
   ]
  },
  {
   "cell_type": "markdown",
   "metadata": {},
   "source": [
    "We will discretise space by using N=50 cells. What is the time necessary, $T_{cell}$ for heat to diffuse over a cell ??  \n",
    " "
   ]
  },
  {
   "cell_type": "markdown",
   "metadata": {},
   "source": [
    "$T_{cell}= ??$"
   ]
  },
  {
   "cell_type": "markdown",
   "metadata": {},
   "source": [
    "## Numerically solving heat transfer accross the window"
   ]
  },
  {
   "cell_type": "markdown",
   "metadata": {},
   "source": [
    "We will make sure, in the following to choose dt < $T_{cell}$. This will be our \"CFL\" condition in the diffusion case.\n",
    "\n",
    "\n",
    "As boundary conditions, we will put $T_1^0=T_L$ and $T_N^0=T_R$, with $T_R=300K$ (warm interior) and $T_L=273K$ (freezing cold outside!).\n",
    "\n",
    "The initial state is $T^0_{2..N-1}=300K$\n",
    "\n",
    "integrate the evolution of the temperature from t=0 to $t_{end} = 10 T_d$\n",
    "\n",
    "\n",
    "Write the code that compute the Evolution of the temperature profile. You have to \n",
    "\n",
    "*1) Define the X axis, dt, dx, the different constant, TR, TL\n",
    "\n",
    "*2) Initialise T\n",
    "\n",
    "*3) Do a loop over time. \n",
    "\n",
    "*4)      Compute dT/dt for each space bin i\n",
    "\n",
    "*5)      Update T for each space bin i \n",
    "\n",
    "*6)     Update time\n",
    "\n",
    "*7)     end of loop\n",
    "\n",
    "\n",
    "\n",
    "\n",
    "\n",
    "\n"
   ]
  },
  {
   "cell_type": "markdown",
   "metadata": {},
   "source": [
    "DO : Provide 5 or 6 plots from 0 to $t_{end}$ display how heat is transfered"
   ]
  },
  {
   "cell_type": "markdown",
   "metadata": {},
   "source": [
    "DO : show that at equilibrium the thermal gradient is constant."
   ]
  },
  {
   "cell_type": "markdown",
   "metadata": {},
   "source": [
    "## Heat flux toward the exterior : energy loss "
   ]
  },
  {
   "cell_type": "markdown",
   "metadata": {},
   "source": [
    "At equilibrium what is the heat flux ? F=-D$\\frac{\\partial T}{\\partial x}$, with D standing for the diffusion coefficient "
   ]
  },
  {
   "cell_type": "markdown",
   "metadata": {},
   "source": [
    "F=??"
   ]
  },
  {
   "cell_type": "markdown",
   "metadata": {},
   "source": [
    "## Inserting an insulating air-layer"
   ]
  },
  {
   "cell_type": "markdown",
   "metadata": {},
   "source": [
    "Now we put an insulating layer with air. So our window is like a \"sandwich\", with 0.3 mm of glass, 0.4 mm of air, 0.3 mm of glass.  Air characteristics are at 273K :\n",
    "K=0.025 W/m/K , Cp=1005 J/K/Kg, and $\\rho= 1.30 Kg/m^3$."
   ]
  },
  {
   "cell_type": "markdown",
   "metadata": {},
   "source": [
    "Redo the same exercice as above :"
   ]
  },
  {
   "cell_type": "markdown",
   "metadata": {},
   "source": [
    "Write the new code (BEWARE : now K, RHO, Cp are not the same evrywhere!!!!)"
   ]
  },
  {
   "cell_type": "markdown",
   "metadata": {},
   "source": [
    "What is the effect of the insulating layer ? Show with plots "
   ]
  },
  {
   "cell_type": "markdown",
   "metadata": {},
   "source": [
    "What is the Thermal profile in the thickness of the window ?\n"
   ]
  },
  {
   "cell_type": "markdown",
   "metadata": {},
   "source": [
    "What is the final heat flux ?\n",
    "\n",
    "Conclusion ? What is the interest of the insulating layer ?\n"
   ]
  },
  {
   "cell_type": "markdown",
   "metadata": {},
   "source": [
    "## 2nd order in time method"
   ]
  },
  {
   "cell_type": "markdown",
   "metadata": {},
   "source": [
    "optional : Redo the resolution but with a method that is second order in time"
   ]
  }
 ],
 "metadata": {
  "kernelspec": {
   "display_name": "Python 3",
   "language": "python",
   "name": "python3"
  },
  "language_info": {
   "codemirror_mode": {
    "name": "ipython",
    "version": 3
   },
   "file_extension": ".py",
   "mimetype": "text/x-python",
   "name": "python",
   "nbconvert_exporter": "python",
   "pygments_lexer": "ipython3",
   "version": "3.8.3"
  }
 },
 "nbformat": 4,
 "nbformat_minor": 2
}
